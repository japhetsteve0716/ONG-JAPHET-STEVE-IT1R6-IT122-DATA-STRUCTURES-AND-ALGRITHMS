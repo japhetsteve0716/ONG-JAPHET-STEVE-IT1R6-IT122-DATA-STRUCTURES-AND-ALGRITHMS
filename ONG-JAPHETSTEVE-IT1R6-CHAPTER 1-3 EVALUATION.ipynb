{
 "cells": [
  {
   "cell_type": "code",
   "execution_count": 6,
   "id": "significant-bachelor",
   "metadata": {
    "tags": []
   },
   "outputs": [
    {
     "name": "stdout",
     "output_type": "stream",
     "text": [
      "Discuss your learnings on Chapter 1  time-frame 8:00 - 30:35. Minimum of 200 characters\n",
      "Chapter 1 learnings are the following:\n",
      "In the 1st chapter at the 8 minute mark, the discussion was about the characteristics of a data structure.\n",
      "This involves the correctness, wherein data struture implementation should implement its interface correctly.\n",
      "It also includes time complexity: it is where the running time or the execution time of operations of data structure must be as small as possible.\n",
      "And next is the space complexity: where the memory usage of a data structure operation should be as little as possible.\n",
      "I also learned that Data Structures and Algorithms has its applications.  1st is search, it is when you want to search an item in a data structure.\n",
      "2nd is sort. it sorts items in a certain order. Followed by insert, update, and delete.\n"
     ]
    }
   ],
   "source": [
    "print(\"Discuss your learnings on Chapter 1  time-frame 8:00 - 30:35. Minimum of 200 characters\")\n",
    "\n",
    "print(\"Chapter 1 learnings are the following:\")\n",
    "print(\"In the 1st chapter at the 8 minute mark, the discussion was about the characteristics of a data structure.\")\n",
    "print(\"This involves the correctness, wherein data struture implementation should implement its interface correctly.\")\n",
    "print(\"It also includes time complexity: it is where the running time or the execution time of operations of data structure must be as small as possible.\")\n",
    "print(\"And next is the space complexity: where the memory usage of a data structure operation should be as little as possible.\")\n",
    "print(\"I also learned that Data Structures and Algorithms has its applications.  1st is search, it is when you want to search an item in a data structure.\")\n",
    "print(\"2nd is sort. it sorts items in a certain order. Followed by insert, update, and delete.\")"
   ]
  },
  {
   "cell_type": "code",
   "execution_count": 8,
   "id": "recorded-relaxation",
   "metadata": {},
   "outputs": [
    {
     "name": "stdout",
     "output_type": "stream",
     "text": [
      "Discuss your learnings on Chapter 1  time-frame 35:00 - end. Minimum of 200 characters\n",
      "Chapter 1 learnings are the following\n",
      "At the 35 minute mark it talks about the algorithm analysis. It states that the efficiency of an algorithm can be analyzed at two different stages, before and after the implementation.\n",
      "1st stage is a priori analysis. this is a theoretical analysis of an algorithm eficiency of an algorithm.\n",
      "Efficiency of an algorithm is measured by asssuming that all other factors. Example given: process speed, are constant amd have no effect on the implementation.\n",
      "2nd stage is a posterior analysis this is an empirical analysis of an algorithm.\n",
      "The selected algorithm is implemented using programming language. This is the executed on target computer machine. In this analysis, actual statistics like running time and space required are collected.\n"
     ]
    }
   ],
   "source": [
    "print(\"Discuss your learnings on Chapter 1  time-frame 35:00 - end. Minimum of 200 characters\")\n",
    "\n",
    "print(\"Chapter 1 learnings are the following\")\n",
    "print(\"At the 35 minute mark it talks about the algorithm analysis. It states that the efficiency of an algorithm can be analyzed at two different stages, before and after the implementation.\")\n",
    "print(\"1st stage is a priori analysis. this is a theoretical analysis of an algorithm eficiency of an algorithm.\")\n",
    "print(\"Efficiency of an algorithm is measured by asssuming that all other factors. Example given: process speed, are constant amd have no effect on the implementation.\")\n",
    "print(\"2nd stage is a posterior analysis this is an empirical analysis of an algorithm.\")\n",
    "print(\"The selected algorithm is implemented using programming language. This is the executed on target computer machine. In this analysis, actual statistics like running time and space required are collected.\")"
   ]
  },
  {
   "cell_type": "code",
   "execution_count": 9,
   "id": "convenient-teaching",
   "metadata": {},
   "outputs": [
    {
     "name": "stdout",
     "output_type": "stream",
     "text": [
      "Discuss your learnings on Chapter 2  time-frame 5:00 - 9:00. Minimum of 200 characters\n",
      "Chapter 2 learnings are the following\n",
      "At the  chapter 2 discussion, I have encountered the Built-in data type. It is those data types for which a language has built in support are known as built in data types.\n",
      "Another data type is the Derived data type. It is those data types which are implementation-independent as they can be implemented in one or the other way are known as derived data types.\n",
      "These data types are normally built by the combination of primary or built in data types and associated operations on them. Examples are list, array, stack, and queue.\n",
      " \n",
      " \n"
     ]
    }
   ],
   "source": [
    "print(\"Discuss your learnings on Chapter 2  time-frame 5:00 - 9:00. Minimum of 200 characters\")\n",
    "\n",
    "print(\"Chapter 2 learnings are the following\")\n",
    "print(\"At the  chapter 2 discussion, I have encountered the Built-in data type. It is those data types for which a language has built in support are known as built in data types.\")\n",
    "print(\"Another data type is the Derived data type. It is those data types which are implementation-independent as they can be implemented in one or the other way are known as derived data types.\")\n",
    "print(\"These data types are normally built by the combination of primary or built in data types and associated operations on them. Examples are list, array, stack, and queue.\")\n",
    "print(\" \")\n",
    "print(\" \")"
   ]
  },
  {
   "cell_type": "code",
   "execution_count": 12,
   "id": "nominated-investor",
   "metadata": {
    "tags": []
   },
   "outputs": [
    {
     "name": "stdout",
     "output_type": "stream",
     "text": [
      "Discuss your learnings on Chapter 3  time-frame 3:00 - 18:00. Minimum of 200 characters\n",
      "Chapter 3 learnings are the following\n",
      "In chapter 3 it talks about the array. So array representation; array can be declared in various ways in different languages. Index starts with 0, array length is 10 which means it can store 10 elements, each element can be accessed via its index.\n",
      "So there are basic operations supported by an array. 1st is traverse, it prints all the array elements one by one. Insertion, it adds an element at the given index. Deletion, it deletes an element at the given index.\n",
      "Search, it searches an element using the given index oy by the value. And lastlt is the update, it updates an element at the given index.\n",
      "An array is created in python by importing array module to the python program declaring: \n",
      "from array import * \n"
     ]
    }
   ],
   "source": [
    "print(\"Discuss your learnings on Chapter 3  time-frame 3:00 - 18:00. Minimum of 200 characters\")\n",
    "\n",
    "print(\"Chapter 3 learnings are the following\")\n",
    "print(\"In chapter 3 it talks about the array. So array representation; array can be declared in various ways in different languages. Index starts with 0, array length is 10 which means it can store 10 elements, each element can be accessed via its index.\")\n",
    "print(\"So there are basic operations supported by an array. 1st is traverse, it prints all the array elements one by one. Insertion, it adds an element at the given index. Deletion, it deletes an element at the given index.\")\n",
    "print(\"Search, it searches an element using the given index oy by the value. And lastlt is the update, it updates an element at the given index.\")\n",
    "print(\"An array is created in python by importing array module to the python program declaring: \")\n",
    "print(\"from array import * \")"
   ]
  },
  {
   "cell_type": "code",
   "execution_count": 20,
   "id": "accompanied-leave",
   "metadata": {},
   "outputs": [
    {
     "name": "stdout",
     "output_type": "stream",
     "text": [
      "500\n",
      "500\n",
      "320000\n",
      "6969\n",
      "8484\n",
      "Index 0 500\n",
      "Index 1 500\n",
      "Index 2 320000\n",
      "Index 3 6969\n",
      "Index 4 8484\n"
     ]
    }
   ],
   "source": [
    "from array import *\n",
    "arrayName = array('i',[500,50,7575,6969,8484])\n",
    "arrayName.insert(2,320000)\n",
    "arrayName.remove(7575)\n",
    "arrayName[1] = 500\n",
    "for x in arrayName:\n",
    "    print(x)\n",
    "print('Index 0', arrayName[0])\n",
    "print('Index 1', arrayName[1])\n",
    "print('Index 2', arrayName[2])\n",
    "print('Index 3', arrayName[3])\n",
    "print('Index 4', arrayName[4])\n",
    "\n"
   ]
  }
 ],
 "metadata": {
  "kernelspec": {
   "display_name": "Python 3",
   "language": "python",
   "name": "python3"
  },
  "language_info": {
   "codemirror_mode": {
    "name": "ipython",
    "version": 3
   },
   "file_extension": ".py",
   "mimetype": "text/x-python",
   "name": "python",
   "nbconvert_exporter": "python",
   "pygments_lexer": "ipython3",
   "version": "3.9.2"
  }
 },
 "nbformat": 4,
 "nbformat_minor": 5
}
